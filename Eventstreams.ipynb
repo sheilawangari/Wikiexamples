{
  "cells": [
    {
      "cell_type": "markdown",
      "metadata": {
        "id": "YsrHkKCcPtS-"
      },
      "source": [
        "Create a python code to connect with revision score stream, then print the Username, Page title and the Database. Stop at 50 events. "
      ]
    },
    {
      "cell_type": "code",
      "execution_count": 1,
      "metadata": {
        "colab": {
          "base_uri": "https://localhost:8080/"
        },
        "id": "rcKI8pHgQXMm",
        "outputId": "5e5171c5-73b8-4351-fe16-e7f83b149d9e"
      },
      "outputs": [
        {
          "name": "stdout",
          "output_type": "stream",
          "text": [
            "Looking in indexes: https://pypi.org/simple, https://us-python.pkg.dev/colab-wheels/public/simple/\n",
            "Collecting sseclient\n",
            "  Downloading sseclient-0.0.27.tar.gz (7.5 kB)\n",
            "  Preparing metadata (setup.py) ... \u001b[?25l\u001b[?25hdone\n",
            "Requirement already satisfied: requests>=2.9 in /usr/local/lib/python3.8/dist-packages (from sseclient) (2.25.1)\n",
            "Requirement already satisfied: six in /usr/local/lib/python3.8/dist-packages (from sseclient) (1.15.0)\n",
            "Requirement already satisfied: idna<3,>=2.5 in /usr/local/lib/python3.8/dist-packages (from requests>=2.9->sseclient) (2.10)\n",
            "Requirement already satisfied: urllib3<1.27,>=1.21.1 in /usr/local/lib/python3.8/dist-packages (from requests>=2.9->sseclient) (1.24.3)\n",
            "Requirement already satisfied: certifi>=2017.4.17 in /usr/local/lib/python3.8/dist-packages (from requests>=2.9->sseclient) (2022.12.7)\n",
            "Requirement already satisfied: chardet<5,>=3.0.2 in /usr/local/lib/python3.8/dist-packages (from requests>=2.9->sseclient) (4.0.0)\n",
            "Building wheels for collected packages: sseclient\n",
            "  Building wheel for sseclient (setup.py) ... \u001b[?25l\u001b[?25hdone\n",
            "  Created wheel for sseclient: filename=sseclient-0.0.27-py3-none-any.whl size=5585 sha256=943bb706a3dc94fa30c1e944a8ee7f1456b55b9a8f1b8eda818e1a3906c2daeb\n",
            "  Stored in directory: /root/.cache/pip/wheels/f9/12/8e/90bd3f4c38f3a0c17681ce222e7762743164876d6dbf04ab71\n",
            "Successfully built sseclient\n",
            "Installing collected packages: sseclient\n",
            "Successfully installed sseclient-0.0.27\n"
          ]
        }
      ],
      "source": [
        "!pip install sseclient"
      ]
    },
    {
      "cell_type": "code",
      "execution_count": 2,
      "metadata": {
        "colab": {
          "base_uri": "https://localhost:8080/"
        },
        "id": "d7Mph3tMQtsp",
        "outputId": "83f836d4-7eef-490f-f6be-3129f70cb4e2"
      },
      "outputs": [
        {
          "name": "stdout",
          "output_type": "stream",
          "text": [
            "Username: Succu, Page Title: Q60396924, Database: wikidatawiki\n",
            "Username: Flod logic, Page Title: List_of_country_names_in_various_languages_(D–I), Database: enwiki\n",
            "Username: 2A01:CB1C:D48:E100:70B0:1349:7EF6:1CF, Page Title: Liste_de_chants_de_marins, Database: frwiki\n",
            "Username: 58.140.211.66, Page Title: 남북의_창, Database: kowiki\n",
            "Username: AramilFeraxa, Page Title: Wikipedia:Poczekalnia/artykuły_załatwione_24, Database: plwiki\n",
            "Username: Markussep, Page Title: Eskihusnumansur,_Adiyaman, Database: enwiki\n",
            "Username: 2407:C800:3F31:B24:4D97:46B9:A73F:951E, Page Title: 阪神タイガースの選手一覧, Database: jawiki\n",
            "Username: Massol1360, Page Title: معاون_امور_مجلس_رئیس‌جمهور_ایران, Database: fawiki\n",
            "Username: Vandcykel, Page Title: Q116215009, Database: wikidatawiki\n",
            "Username: Ionenlaser, Page Title: Lexeme:L943695, Database: wikidatawiki\n",
            "Username: 85.14.144.74, Page Title: Champions_(film,_2018), Database: frwiki\n",
            "Username: HedgeHog, Page Title: Q19171863, Database: wikidatawiki\n",
            "Username: A.TedBot, Page Title: 토론:아비나답, Database: kowiki\n",
            "Username: Cewbot, Page Title: Q40242204, Database: wikidatawiki\n",
            "Username: Mwtipp, Page Title: Reizfilterschwäche, Database: dewiki\n",
            "Username: Dexbot, Page Title: پدرسالار, Database: fawiki\n",
            "Username: 5.47.58.140, Page Title: Yedi_Güzel_Adam, Database: trwiki\n",
            "Username: Acélan, Page Title: Page:Œuvres_complètes_de_Guy_de_Maupassant,_XVI.djvu/40, Database: frwikisource\n",
            "Username: Tfjt, Page Title: Große_Mannesmann, Database: dewiki\n",
            "Username: Roman Reigns Fanboy, Page Title: M3GAN, Database: enwiki\n",
            "Username: Vcohen, Page Title: Кикабидзе,_Вахтанг_Константинович, Database: ruwiki\n",
            "Username: Vandcykel, Page Title: Q116215009, Database: wikidatawiki\n",
            "Username: MatSuBot, Page Title: Q15928356, Database: wikidatawiki\n",
            "Username: Kristbaum, Page Title: Lexeme:L982036, Database: wikidatawiki\n",
            "Username: Ionenlaser, Page Title: Lexeme:L950039, Database: wikidatawiki\n",
            "Username: Laterthanyouthink, Page Title: Buck_Creek, Database: enwiki\n",
            "Username: Vandcykel, Page Title: Q116215009, Database: wikidatawiki\n",
            "Username: Cewbot, Page Title: Q40242204, Database: wikidatawiki\n",
            "Username: E-Kategorie, Page Title: Флаг_Хоседа-Хардского_сельсовета, Database: ruwiki\n",
            "Username: Vandcykel, Page Title: Q116215009, Database: wikidatawiki\n",
            "Username: Alaf2, Page Title: Marente_de_Moor, Database: frwiki\n",
            "Username: 217.119.35.242, Page Title: Mikk_Mägi, Database: fiwiki\n",
            "Username: HedgeHog, Page Title: Q19183233, Database: wikidatawiki\n",
            "Username: Abu aamir, Page Title: ألبو_ناصر, Database: arwiki\n",
            "Username: Superchilum, Page Title: Q86522238, Database: wikidatawiki\n",
            "Username: 1.229.144.194, Page Title: 2023년_텔레비전_애니메이션_목록, Database: kowiki\n",
            "Username: XabatuBot, Page Title: Q13032506, Database: wikidatawiki\n",
            "Username: Cewbot, Page Title: Q40242204, Database: wikidatawiki\n",
            "Username: Jedudedek, Page Title: Q116215007, Database: wikidatawiki\n",
            "Username: Lockal, Page Title: Q27776157, Database: wikidatawiki\n",
            "Username: Vandcykel, Page Title: Q116215009, Database: wikidatawiki\n",
            "Username: Lockal, Page Title: Q22110414, Database: wikidatawiki\n",
            "Username: Lockal, Page Title: Q16977207, Database: wikidatawiki\n",
            "Username: Kristbaum, Page Title: Lexeme:L982037, Database: wikidatawiki\n",
            "Username: SuccuBot, Page Title: Q43002368, Database: wikidatawiki\n",
            "Username: Gytha, Page Title: Wikipedia_talk:Featured_pictures, Database: enwiki\n",
            "Username: 甘大面, Page Title: 华夏航空4064号班机事件, Database: zhwiki\n",
            "Username: Cewbot, Page Title: Q40242204, Database: wikidatawiki\n",
            "Username: Ionenlaser, Page Title: Lexeme:L950039, Database: wikidatawiki\n",
            "Username: SuccuBot, Page Title: Q43002368, Database: wikidatawiki\n"
          ]
        }
      ],
      "source": [
        "import json \n",
        "from sseclient import SSEClient as EventSource \n",
        "\n",
        "url = 'https://stream.wikimedia.org/v2/stream/mediawiki.revision-score' \n",
        "counter = 0 \n",
        "maxEvents = 50 \n",
        " \n",
        "\n",
        "for event in EventSource(url):\n",
        "    if event.event == 'message': \n",
        "        try:\n",
        "            change = json.loads(event.data)         # parse the event data as json\n",
        "            \n",
        "        except ValueError:\n",
        "            continue                          # if the json is not valid, skip this event\n",
        "        \n",
        "        user_name = change['performer']['user_text']\n",
        "        page_title = change['page_title']\n",
        "        database = change['database']\n",
        " \n",
        "        print(f'Username: {user_name}, Page Title: {page_title}, Database: {database}')\n",
        " \n",
        "        counter += 1 \n",
        "        if counter >= maxEvents: \n",
        "            break "
      ]
    }
  ],
  "metadata": {
    "colab": {
      "provenance": []
    },
    "kernelspec": {
      "display_name": "Python 3",
      "language": "python",
      "name": "python3"
    },
    "language_info": {
      "name": "python",
      "version": "3.10.4 (tags/v3.10.4:9d38120, Mar 23 2022, 23:13:41) [MSC v.1929 64 bit (AMD64)]"
    },
    "vscode": {
      "interpreter": {
        "hash": "df95319d8ce4e1d89f5365ae10992bc1f65da593082b1d264e8f529830ec2f02"
      }
    }
  },
  "nbformat": 4,
  "nbformat_minor": 0
}
